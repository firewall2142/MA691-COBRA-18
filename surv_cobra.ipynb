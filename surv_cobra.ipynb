{
 "cells": [
  {
   "cell_type": "code",
   "execution_count": 1,
   "metadata": {},
   "outputs": [],
   "source": [
    "import pandas as pd\n",
    "import matplotlib.pyplot as plt\n",
    "import numpy as np\n",
    "%matplotlib inline\n",
    "\n",
    "from lifelines.utils import concordance_index\n",
    "from sklearn.model_selection import train_test_split\n",
    "from sksurv.tree import SurvivalTree\n",
    "from cobra import Cobra\n",
    "from CobraSurvivalTree import CobraSurvivalTree"
   ]
  },
  {
   "cell_type": "markdown",
   "metadata": {},
   "source": [
    "## Dateset specifications:\n",
    "```\n",
    "id       = case number\n",
    "futime   = number of days between registration and the earlier of death,\n",
    "           transplantion, or study analysis time in July, 1986\n",
    "status   = 0=alive, 1=liver transplant, 2=dead\n",
    "drug     = 1= D-penicillamine, 2=placebo\n",
    "age      = age in days\n",
    "sex      = 0=male, 1=female\n",
    "ascites  = presence of ascites: 0=no 1=yes\n",
    "hepato   = presence of hepatomegaly 0=no 1=yes\n",
    "spiders  = presence of spiders 0=no 1=yes\n",
    "edema    = presence of edema 0=no edema and no diuretic therapy for edema;\n",
    "          .5 = edema present without diuretics, or edema resolved by diuretics;\n",
    "           1 = edema despite diuretic therapy\n",
    "bili     = serum bilirubin in mg/dl\n",
    "chol     = serum cholesterol in mg/dl\n",
    "albumin  = albumin in gm/dl\n",
    "copper   = urine copper in ug/day\n",
    "alk_phos = alkaline phosphatase in U/liter\n",
    "sgot     = SGOT in U/ml\n",
    "trig     = triglicerides in mg/dl\n",
    "platelet = platelets per cubic ml/1000\n",
    "protime  = prothrombin time in seconds\n",
    "stage    = histologic stage of disease\n",
    "```"
   ]
  },
  {
   "cell_type": "code",
   "execution_count": 2,
   "metadata": {},
   "outputs": [],
   "source": [
    "def read_dataset():\n",
    "    columns = [\"id\", \"futime\", \"status\", \"drug\", \"age\", \"sex\",\n",
    "           \"ascites\", \"hepato\", \"spiders\", \"edema\", \"bili\",\n",
    "           \"chol\", \"albumin\", \"copper\", \"alk_phos\", \"sgot\",\n",
    "           \"trig\", \"platelet\", \"protime\", \"stage\"]\n",
    "    df = pd.read_fwf(\"data/pbc.dat\", header=None, names=columns, na_values=[\".\"], index_col=\"id\")\n",
    "    df[\"futime\"] = df[\"futime\"]/365.25\n",
    "\n",
    "    df = df.dropna(axis=0,how='any')\n",
    "\n",
    "    df = df[df[\"status\"] != 1]\n",
    "\n",
    "    Xs = df.loc[:, ~df.columns.isin([\"futime\",\"status\"])]\n",
    "\n",
    "    ys = np.zeros(len(Xs), dtype=np.dtype([('event', '?'), ('time', '<f8')]))\n",
    "    # true if event happened at that time\n",
    "    ys['event'] = df[\"status\"] == 2\n",
    "    ys['time'] = df['futime']\n",
    "\n",
    "    return Xs, ys"
   ]
  },
  {
   "cell_type": "code",
   "execution_count": 3,
   "metadata": {},
   "outputs": [],
   "source": [
    "X,y = read_dataset()\n",
    "X_train, X_test, y_train, y_test = train_test_split(X, y, test_size=0.25, random_state=0)\n",
    "mean_censor_time = np.average([y[1] for y in y_train if not y[0]])"
   ]
  },
  {
   "cell_type": "code",
   "execution_count": 5,
   "metadata": {},
   "outputs": [
    {
     "name": "stdout",
     "output_type": "stream",
     "text": [
      "Mean Error : 2.31 years\n",
      "C-index    : 0.68\n"
     ]
    }
   ],
   "source": [
    "survCobra = Cobra(epsilon=3)\n",
    "survCobra.fit(X_train,y_train,default=False)\n",
    "for i in range(3):\n",
    "    survTree = CobraSurvivalTree(splitter='random', random_state=i)\n",
    "    survTree.fit(X_train,y_train)\n",
    "    survCobra.load_machine(f'survTree_{i:2d}',survTree)\n",
    "eventTimes = survTree.event_times_\n",
    "# print(survCobra.X_l_)\n",
    "survCobra.split_data()\n",
    "survCobra.load_machine_predictions()\n",
    "y_pred = survCobra.predict(X_test)\n",
    "y_pred = np.nan_to_num(y_pred, nan=mean_censor_time)\n",
    "\n",
    "\n",
    "error = [y[1]-y_pred[i] for i,y in enumerate(y_test)]\n",
    "print(f'Mean Error : {np.mean(np.abs(error)):.2f} years')\n",
    "# print(f'Bias       : {np.mean(error):.2f} years')\n",
    "print( 'C-index    : {:.2f}'.format(concordance_index([y[1] for y in y_test], y_pred)))\n"
   ]
  },
  {
   "cell_type": "code",
   "execution_count": 6,
   "metadata": {},
   "outputs": [
    {
     "data": {
      "text/plain": [
       "Text(0.5, 1.0, 'Survival Function')"
      ]
     },
     "execution_count": 6,
     "metadata": {},
     "output_type": "execute_result"
    },
    {
     "data": {
      "image/png": "[encoded data removed]",
      "text/plain": [
       "<Figure size 432x288 with 1 Axes>"
      ]
     },
     "metadata": {
      "needs_background": "light"
     },
     "output_type": "display_data"
    }
   ],
   "source": [
    "y = survCobra.predict_survival_function(X_test.iloc[0:5])\n",
    "\n",
    "for i in range(len(y)):\n",
    "    plt.step(eventTimes, y[i], where=\"post\",label=f\"patient {X_test.iloc[i].name}\")\n",
    "\n",
    "plt.xlabel(\"Time in years\")\n",
    "plt.ylabel(\"Survival Probability\")\n",
    "plt.legend()\n",
    "plt.grid(True)\n",
    "plt.title('Survival Function')\n"
   ]
  }
 ],
 "metadata": {
  "interpreter": {
   "hash": "6761c6faa3749319355cef54e8815d5ca616aa2391908c6b8d3599a59326c39a"
  },
  "kernelspec": {
   "display_name": "Python 3.8.5 64-bit",
   "language": "python",
   "name": "python3"
  },
  "language_info": {
   "codemirror_mode": {
    "name": "ipython",
    "version": 3
   },
   "file_extension": ".py",
   "mimetype": "text/x-python",
   "name": "python",
   "nbconvert_exporter": "python",
   "pygments_lexer": "ipython3",
   "version": "3.8.5"
  },
  "orig_nbformat": 4
 },
 "nbformat": 4,
 "nbformat_minor": 2
}
